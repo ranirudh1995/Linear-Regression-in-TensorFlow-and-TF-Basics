{
 "cells": [
  {
   "cell_type": "code",
   "execution_count": 1,
   "metadata": {},
   "outputs": [],
   "source": [
    "import tensorflow as tf"
   ]
  },
  {
   "cell_type": "markdown",
   "metadata": {},
   "source": [
    "## Basics"
   ]
  },
  {
   "cell_type": "code",
   "execution_count": 26,
   "metadata": {},
   "outputs": [],
   "source": [
    "# computation graph\n",
    "x = tf.Variable(3, name=\"x\")\n",
    "y = tf.Variable(4, name=\"y\")\n",
    "f = x*x*y + y + 2\n",
    "\n",
    "# prepare an init node\n",
    "init = tf.global_variables_initializer()\n",
    "\n",
    "# Initializing an Interactive Session \n",
    "session = tf.InteractiveSession()\n",
    "\n",
    "# Initiaze all variables\n",
    "init.run()\n",
    "\n",
    "# computed the function result\n",
    "result = f.eval()\n",
    "\n",
    "# closing the Interactive Session\n",
    "session.close()"
   ]
  },
  {
   "cell_type": "code",
   "execution_count": 27,
   "metadata": {},
   "outputs": [
    {
     "name": "stdout",
     "output_type": "stream",
     "text": [
      "True\n",
      "True\n",
      "True\n",
      "False\n"
     ]
    }
   ],
   "source": [
    "# Managing Graphs\n",
    "x1 = tf.Variable(1) # Automically gets added to the default graph\n",
    "print(x1.graph is tf.get_default_graph()) # Gives True since x1 gets added to the default graph\n",
    "\n",
    "# Reset the default graph\n",
    "tf.reset_default_graph()\n",
    "print(x1.graph is tf.get_default_graph()) # Gives False since we resetted the default graph\n",
    "\n",
    "# Creating a new Graph and making it the default graph temorarily\n",
    "graph = tf.Graph()\n",
    "with graph.as_default():\n",
    "    x2 = tf.Variable(2)\n",
    "print(x2.graph is graph) # Gives True since x2 is added to the graph \"graph\"\n",
    "print(x2.graph is tf.get_default_graph()) # Gives False since \"graph\" is not the default graph"
   ]
  },
  {
   "cell_type": "markdown",
   "metadata": {},
   "source": [
    "## Linear Regression using TensorFlow on California Housing Dataset"
   ]
  },
  {
   "cell_type": "code",
   "execution_count": 28,
   "metadata": {},
   "outputs": [],
   "source": [
    "import numpy as np\n",
    "from sklearn.datasets import fetch_california_housing"
   ]
  },
  {
   "cell_type": "code",
   "execution_count": 40,
   "metadata": {},
   "outputs": [
    {
     "name": "stderr",
     "output_type": "stream",
     "text": [
      "Downloading Cal. housing from https://ndownloader.figshare.com/files/5976036 to C:\\Users\\ranir\\scikit_learn_data\n"
     ]
    }
   ],
   "source": [
    "housing = fetch_california_housing()\n",
    "m, n = housing.data.shape\n",
    "housing_data_with_bias = np.c_[np.ones((m,1)),housing.data]"
   ]
  },
  {
   "cell_type": "code",
   "execution_count": 46,
   "metadata": {},
   "outputs": [],
   "source": [
    "# Finding parameters (theta) using Normal Equation\n",
    "\n",
    "# Constructing the graph\n",
    "X = tf.constant(housing_data_with_bias, dtype=tf.float32, name=\"X\")\n",
    "y = tf.constant(housing.target.reshape(-1,1), dtype=tf.float32, name=\"y\")\n",
    "XT = tf.transpose(X)\n",
    "\n",
    "theta = tf.matmul(tf.matmul(tf.matrix_inverse(tf.matmul(XT,X)),XT),y)\n",
    "\n",
    "# Execution Phase\n",
    "with tf.Session() as session:\n",
    "    theta_value = theta.eval()"
   ]
  },
  {
   "cell_type": "code",
   "execution_count": 64,
   "metadata": {},
   "outputs": [],
   "source": [
    "from sklearn.preprocessing import StandardScaler\n",
    "scaler = StandardScaler()\n",
    "scaled_housing_data_with_bias = scaler.fit_transform(housing_data_with_bias)"
   ]
  },
  {
   "cell_type": "code",
   "execution_count": 65,
   "metadata": {},
   "outputs": [],
   "source": [
    "n_epochs = 1000\n",
    "learning_rate = 0.01"
   ]
  },
  {
   "cell_type": "code",
   "execution_count": 66,
   "metadata": {},
   "outputs": [
    {
     "name": "stdout",
     "output_type": "stream",
     "text": [
      "Gradients calculated manually\n",
      "\n",
      "Epoch 0 MSE =  9.976843\n",
      "Epoch 100 MSE =  4.984743\n",
      "Epoch 200 MSE =  4.898332\n",
      "Epoch 300 MSE =  4.8723593\n",
      "Epoch 400 MSE =  4.8540244\n",
      "Epoch 500 MSE =  4.8406577\n",
      "Epoch 600 MSE =  4.830878\n",
      "Epoch 700 MSE =  4.8237166\n",
      "Epoch 800 MSE =  4.8184667\n",
      "Epoch 900 MSE =  4.8146\n",
      "\n",
      "\n"
     ]
    }
   ],
   "source": [
    "tf.reset_default_graph()\n",
    "# Finding parameters (theta) using Gradient Descent but Calculating gradients manually\n",
    "\n",
    "# Constructing the graph\n",
    "X = tf.constant(scaled_housing_data_with_bias, dtype=tf.float32, name=\"X\")\n",
    "y = tf.constant(housing.target.reshape(-1,1), dtype=tf.float32, name=\"y\")\n",
    "theta = tf.Variable(tf.random_uniform([n+1,1], -1.0, 1.0), name=\"theta\")\n",
    "y_pred = tf.matmul(X, theta, name=\"predictions\")\n",
    "error = y_pred - y\n",
    "mse = tf.reduce_mean(tf.square(error), name=\"mse\")\n",
    "\n",
    "# Calculating gradients manually\n",
    "gradients = 2/m * tf.matmul(tf.transpose(X), error)\n",
    "training_op = tf.assign(theta, theta - learning_rate * gradients)\n",
    "\n",
    "# prepare an init node. Does not initialize now itself\n",
    "init = tf.global_variables_initializer()\n",
    "\n",
    "with tf.Session() as session:\n",
    "    session.run(init)\n",
    "    print(\"Gradients calculated manually\\n\")\n",
    "    for epoch in range(n_epochs):\n",
    "        if epoch%100 == 0:\n",
    "            print(\"Epoch\", epoch, \"MSE = \", mse.eval())\n",
    "        session.run(training_op)\n",
    "    print(\"\\n\")\n",
    "    theta_value_manual = theta.eval()"
   ]
  },
  {
   "cell_type": "code",
   "execution_count": 67,
   "metadata": {},
   "outputs": [
    {
     "name": "stdout",
     "output_type": "stream",
     "text": [
      "Gradients calculated using Autodiff\n",
      "\n",
      "Epoch 0 MSE =  7.6146326\n",
      "Epoch 100 MSE =  4.895432\n",
      "Epoch 200 MSE =  4.836106\n",
      "Epoch 300 MSE =  4.825135\n",
      "Epoch 400 MSE =  4.8191185\n",
      "Epoch 500 MSE =  4.814882\n",
      "Epoch 600 MSE =  4.811797\n",
      "Epoch 700 MSE =  4.8095512\n",
      "Epoch 800 MSE =  4.807901\n",
      "Epoch 900 MSE =  4.806699\n",
      "\n",
      "\n"
     ]
    }
   ],
   "source": [
    "# Finding parameters (theta) using Gradient Descent but Using TensorFlow Autodiff to calculate gradients\n",
    "tf.reset_default_graph()\n",
    "\n",
    "# Constructing the graph\n",
    "X = tf.constant(scaled_housing_data_with_bias, dtype=tf.float32, name=\"X\")\n",
    "y = tf.constant(housing.target.reshape(-1,1), dtype=tf.float32, name=\"y\")\n",
    "theta = tf.Variable(tf.random_uniform([n+1,1], -1.0, 1.0), name=\"theta\")\n",
    "y_pred = tf.matmul(X, theta, name=\"predictions\")\n",
    "error = y_pred - y\n",
    "mse = tf.reduce_mean(tf.square(error), name=\"mse\")\n",
    "\n",
    "# Using TensorFlow Autodiff to calculate gradients\n",
    "gradients = tf.gradients(mse, [theta])[0]\n",
    "training_op = tf.assign(theta, theta - learning_rate * gradients)\n",
    "\n",
    "# prepare an init node. Does not initialize now itself\n",
    "init = tf.global_variables_initializer()\n",
    "\n",
    "with tf.Session() as session:\n",
    "    session.run(init)\n",
    "    print(\"Gradients calculated using Autodiff\\n\")\n",
    "    for epoch in range(n_epochs):\n",
    "        if epoch%100 == 0:\n",
    "            print(\"Epoch\", epoch, \"MSE = \", mse.eval())\n",
    "        session.run(training_op)\n",
    "    print(\"\\n\")\n",
    "    theta_value_autodiff = theta.eval()"
   ]
  },
  {
   "cell_type": "code",
   "execution_count": 68,
   "metadata": {},
   "outputs": [
    {
     "name": "stdout",
     "output_type": "stream",
     "text": [
      "Using Gradient Descent Optimizer\n",
      "\n",
      "Epoch 0 MSE =  9.143634\n",
      "Epoch 100 MSE =  5.0988865\n",
      "Epoch 200 MSE =  4.9747653\n",
      "Epoch 300 MSE =  4.9286466\n",
      "Epoch 400 MSE =  4.896645\n",
      "Epoch 500 MSE =  4.873162\n",
      "Epoch 600 MSE =  4.855802\n",
      "Epoch 700 MSE =  4.842926\n",
      "Epoch 800 MSE =  4.8333507\n",
      "Epoch 900 MSE =  4.8261914\n",
      "\n",
      "\n"
     ]
    }
   ],
   "source": [
    "# Finding parameters (theta) using TensorFlow's Gradient Descent Optimizer\n",
    "tf.reset_default_graph()\n",
    "\n",
    "# Constructing the graph\n",
    "X = tf.constant(scaled_housing_data_with_bias, dtype=tf.float32, name=\"X\")\n",
    "y = tf.constant(housing.target.reshape(-1,1), dtype=tf.float32, name=\"y\")\n",
    "theta = tf.Variable(tf.random_uniform([n+1,1], -1.0, 1.0), name=\"theta\")\n",
    "y_pred = tf.matmul(X, theta, name=\"predictions\")\n",
    "error = y_pred - y\n",
    "mse = tf.reduce_mean(tf.square(error), name=\"mse\")\n",
    "\n",
    "# Using TensorFlow's Optimizer\n",
    "optimizer = tf.train.GradientDescentOptimizer(learning_rate=learning_rate)\n",
    "training_op = optimizer.minimize(mse)\n",
    "\n",
    "# prepare an init node. Does not initialize now itself\n",
    "init = tf.global_variables_initializer()\n",
    "\n",
    "with tf.Session() as session:\n",
    "    session.run(init)\n",
    "    print(\"Using Gradient Descent Optimizer\\n\")\n",
    "    for epoch in range(n_epochs):\n",
    "        if epoch%100 == 0:\n",
    "            print(\"Epoch\", epoch, \"MSE = \", mse.eval())\n",
    "        session.run(training_op)\n",
    "    print(\"\\n\")\n",
    "    theta_value_manual = theta.eval()"
   ]
  },
  {
   "cell_type": "code",
   "execution_count": 87,
   "metadata": {},
   "outputs": [
    {
     "name": "stdout",
     "output_type": "stream",
     "text": [
      "Using Mini-Gradient Descent Optimizer\n",
      "\n",
      "Epoch 0 MSE of last batch =  0.13236797\n",
      "Epoch 100 MSE of last batch =  0.098801464\n",
      "Epoch 200 MSE of last batch =  0.10039978\n",
      "Epoch 300 MSE of last batch =  0.10022991\n",
      "Epoch 400 MSE of last batch =  0.099965766\n",
      "Epoch 500 MSE of last batch =  0.099701\n",
      "Epoch 600 MSE of last batch =  0.099440955\n",
      "Epoch 700 MSE of last batch =  0.099185936\n",
      "Epoch 800 MSE of last batch =  0.098935366\n",
      "Epoch 900 MSE of last batch =  0.098689385\n"
     ]
    }
   ],
   "source": [
    "# Finding parameters (theta) using TensorFlow's Gradient Descent Optimizer and batches of data\n",
    "tf.reset_default_graph()\n",
    "\n",
    "# Constructing the graph\n",
    "X = tf.placeholder(tf.float32, shape=(None, n+1),name=\"X\")\n",
    "y = tf.placeholder(tf.float32, shape=(None, 1), name=\"y\")\n",
    "theta = tf.Variable(tf.random_uniform([n+1,1], -1.0, 1.0), name=\"theta\")\n",
    "y_pred = tf.matmul(X, theta, name=\"predictions\")\n",
    "error = y_pred - y\n",
    "mse = tf.reduce_mean(tf.square(error), name=\"mse\")\n",
    "\n",
    "batch_size = 100\n",
    "n_batches = int(np.ceil(m / batch_size))\n",
    "# Using TensorFlow's Optimizer\n",
    "optimizer = tf.train.GradientDescentOptimizer(learning_rate=learning_rate)\n",
    "training_op = optimizer.minimize(mse)\n",
    "\n",
    "# prepare an init node. Does not initialize now itself\n",
    "init = tf.global_variables_initializer()\n",
    "\n",
    "def fetch_batch(batch_index, batch_size):\n",
    "    #print(scaled_housing_data_with_bias[0:2])\n",
    "    X_batch = scaled_housing_data_with_bias[batch_index : batch_index+batch_size]\n",
    "    y_batch = housing.target.reshape(-1,1)[batch_index : batch_index+batch_size]\n",
    "    return X_batch, y_batch\n",
    "\n",
    "with tf.Session() as session:\n",
    "    session.run(init)\n",
    "    print(\"Using Mini-Gradient Descent Optimizer\\n\")\n",
    "    for epoch in range(n_epochs):\n",
    "        for batch_index in range(n_batches):\n",
    "            X_batch, y_batch = fetch_batch(batch_index, batch_size)\n",
    "            session.run(training_op, feed_dict={X:X_batch, y:y_batch})\n",
    "        if epoch%100 == 0:\n",
    "            print(\"Epoch\", epoch, \"MSE of last batch = \", mse.eval(feed_dict={X:X_batch, y:y_batch}))\n",
    "    theta_value_batch = theta.eval()"
   ]
  },
  {
   "cell_type": "code",
   "execution_count": null,
   "metadata": {},
   "outputs": [],
   "source": []
  }
 ],
 "metadata": {
  "kernelspec": {
   "display_name": "Python 3",
   "language": "python",
   "name": "python3"
  },
  "language_info": {
   "codemirror_mode": {
    "name": "ipython",
    "version": 3
   },
   "file_extension": ".py",
   "mimetype": "text/x-python",
   "name": "python",
   "nbconvert_exporter": "python",
   "pygments_lexer": "ipython3",
   "version": "3.6.8"
  }
 },
 "nbformat": 4,
 "nbformat_minor": 2
}
